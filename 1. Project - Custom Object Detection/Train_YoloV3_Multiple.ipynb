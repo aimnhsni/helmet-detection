{
  "nbformat": 4,
  "nbformat_minor": 0,
  "metadata": {
    "colab": {
      "name": "Train_YoloV3_Multiple.ipynb",
      "provenance": [],
      "collapsed_sections": []
    },
    "kernelspec": {
      "name": "python3",
      "display_name": "Python 3"
    },
    "accelerator": "GPU"
  },
  "cells": [
    {
      "cell_type": "markdown",
      "metadata": {
        "id": "wHBQcQzjD6HJ",
        "colab_type": "text"
      },
      "source": [
        "**Connect google drive**"
      ]
    },
    {
      "cell_type": "code",
      "metadata": {
        "id": "bwp6NIrsZZFP",
        "colab_type": "code",
        "colab": {}
      },
      "source": [
        "# Check if NVIDIA GPU is enabled\n",
        "!nvidia-smi"
      ],
      "execution_count": 0,
      "outputs": []
    },
    {
      "cell_type": "code",
      "metadata": {
        "id": "9e9ZW3sqMEPO",
        "colab_type": "code",
        "colab": {}
      },
      "source": [
        "from google.colab import drive\n",
        "drive.mount('/content/gdrive')\n",
        "!ln -s /content/gdrive/My\\ Drive/ /mydrive\n",
        "!ls /mydrive"
      ],
      "execution_count": 0,
      "outputs": []
    },
    {
      "cell_type": "markdown",
      "metadata": {
        "id": "t7utW4in4azV",
        "colab_type": "text"
      },
      "source": [
        "**1) Clone, configure & compile Darknet**\n",
        "\n"
      ]
    },
    {
      "cell_type": "code",
      "metadata": {
        "id": "e03U7Zi-qMr2",
        "colab_type": "code",
        "colab": {}
      },
      "source": [
        "# Clone\n",
        "!git clone https://github.com/AlexeyAB/darknet"
      ],
      "execution_count": 0,
      "outputs": []
    },
    {
      "cell_type": "code",
      "metadata": {
        "id": "7hzfEWSuONhz",
        "colab_type": "code",
        "colab": {}
      },
      "source": [
        "# Configure\n",
        "%cd darknet\n",
        "!sed -i 's/OPENCV=0/OPENCV=1/' Makefile\n",
        "!sed -i 's/GPU=0/GPU=1/' Makefile\n",
        "!sed -i 's/CUDNN=0/CUDNN=1/' Makefile"
      ],
      "execution_count": 0,
      "outputs": []
    },
    {
      "cell_type": "code",
      "metadata": {
        "id": "EBBokOq5OOA5",
        "colab_type": "code",
        "colab": {}
      },
      "source": [
        "# Compile\n",
        "!make"
      ],
      "execution_count": 0,
      "outputs": []
    },
    {
      "cell_type": "markdown",
      "metadata": {
        "id": "gAOLtA_qI9vF",
        "colab_type": "text"
      },
      "source": [
        "**2) Configure yolov3.cfg file**"
      ]
    },
    {
      "cell_type": "code",
      "metadata": {
        "id": "s-RpscgU853t",
        "colab_type": "code",
        "colab": {}
      },
      "source": [
        "# Make a copy of yolov3.cfg\n",
        "!cp cfg/yolov3.cfg cfg/yolov3_training.cfg"
      ],
      "execution_count": 0,
      "outputs": []
    },
    {
      "cell_type": "code",
      "metadata": {
        "id": "5ZgVQRop_vwR",
        "colab_type": "code",
        "colab": {}
      },
      "source": [
        "# Change lines in yolov3.cfg file\n",
        "!sed -i 's/batch=1/batch=64/' cfg/yolov3_training.cfg\n",
        "!sed -i 's/subdivisions=1/subdivisions=16/' cfg/yolov3_training.cfg\n",
        "!sed -i 's/max_batches = 500200/max_batches = 6000/' cfg/yolov3_training.cfg\n",
        "!sed -i '610 s@classes=80@classes=3@' cfg/yolov3_training.cfg\n",
        "!sed -i '696 s@classes=80@classes=3@' cfg/yolov3_training.cfg\n",
        "!sed -i '783 s@classes=80@classes=3@' cfg/yolov3_training.cfg\n",
        "!sed -i '603 s@filters=255@filters=24@' cfg/yolov3_training.cfg\n",
        "!sed -i '689 s@filters=255@filters=24@' cfg/yolov3_training.cfg\n",
        "!sed -i '776 s@filters=255@filters=24@' cfg/yolov3_training.cfg"
      ],
      "execution_count": 0,
      "outputs": []
    },
    {
      "cell_type": "markdown",
      "metadata": {
        "id": "88p9BIjkPTRv",
        "colab_type": "text"
      },
      "source": [
        "**3) Create .names and .data files**"
      ]
    },
    {
      "cell_type": "code",
      "metadata": {
        "id": "7AIBw_psIclz",
        "colab_type": "code",
        "colab": {}
      },
      "source": [
        "!echo -e 'Wearing Mask\\n2nd item\\n3rd item' > data/obj.names\n",
        "!echo -e 'classes= 3\\ntrain  = data/train.txt\\nvalid  = data/test.txt\\nnames = data/obj.names\\nbackup = /mydrive/yolov3' > data/obj.data"
      ],
      "execution_count": 0,
      "outputs": []
    },
    {
      "cell_type": "markdown",
      "metadata": {
        "id": "dqFFqbUJMtN-",
        "colab_type": "text"
      },
      "source": [
        "**4) Save yolov3_training.cfg and obj.names files in Google drive**"
      ]
    },
    {
      "cell_type": "code",
      "metadata": {
        "id": "67o96gV7L0Uv",
        "colab_type": "code",
        "colab": {}
      },
      "source": [
        "!cp cfg/yolov3_training.cfg /mydrive/yolov3/yolov3_testing.cfg\n",
        "!cp data/obj.names /mydrive/yolov3/classes.txt"
      ],
      "execution_count": 0,
      "outputs": []
    },
    {
      "cell_type": "markdown",
      "metadata": {
        "id": "9RbVKJjoncW2",
        "colab_type": "text"
      },
      "source": [
        "**5) Create a folder and unzip image dataset**"
      ]
    },
    {
      "cell_type": "code",
      "metadata": {
        "id": "eZlkzFMW7I_N",
        "colab_type": "code",
        "colab": {}
      },
      "source": [
        "!mkdir data/obj\n",
        "!unzip /mydrive/yolov3/images.zip -d data/obj"
      ],
      "execution_count": 0,
      "outputs": []
    },
    {
      "cell_type": "markdown",
      "metadata": {
        "id": "ogBdNwRaZ50U",
        "colab_type": "text"
      },
      "source": [
        "**6) Create train.txt file**"
      ]
    },
    {
      "cell_type": "code",
      "metadata": {
        "id": "DGUyXxeYX0IP",
        "colab_type": "code",
        "colab": {}
      },
      "source": [
        "import glob\n",
        "images_list = glob.glob(\"data/obj/*.jpg\")\n",
        "with open(\"data/train.txt\", \"w\") as f:\n",
        "    f.write(\"\\n\".join(images_list))"
      ],
      "execution_count": 0,
      "outputs": []
    },
    {
      "cell_type": "markdown",
      "metadata": {
        "id": "084L-LLPqxQe",
        "colab_type": "text"
      },
      "source": [
        "**7) Download pre-trained weights for the convolutional layers file**"
      ]
    },
    {
      "cell_type": "code",
      "metadata": {
        "id": "jhb5nZvsQ_96",
        "colab_type": "code",
        "colab": {}
      },
      "source": [
        "!wget https://pjreddie.com/media/files/darknet53.conv.74"
      ],
      "execution_count": 0,
      "outputs": []
    },
    {
      "cell_type": "markdown",
      "metadata": {
        "id": "CeSiuLrXoAjc",
        "colab_type": "text"
      },
      "source": [
        "**8) Start training**"
      ]
    },
    {
      "cell_type": "code",
      "metadata": {
        "id": "S3_g3jclUzMm",
        "colab_type": "code",
        "colab": {}
      },
      "source": [
        "!./darknet detector train data/obj.data cfg/yolov3_training.cfg darknet53.conv.74 -dont_show\n",
        "# Uncomment below and comment above to re-start your training from last saved weights\n",
        "#!./darknet detector train data/obj.data cfg/yolov3_training.cfg /mydrive/yolov3/yolov3_training_last.weights -dont_show"
      ],
      "execution_count": 0,
      "outputs": []
    }
  ]
}